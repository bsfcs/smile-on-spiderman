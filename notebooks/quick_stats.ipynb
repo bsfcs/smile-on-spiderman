{
 "cells": [
  {
   "cell_type": "code",
   "execution_count": 1,
   "metadata": {},
   "outputs": [],
   "source": [
    "import pandas as pd\n",
    "import numpy as np\n",
    "import matplotlib.pyplot as plt\n",
    "import seaborn as sns\n",
    "\n",
    "%matplotlib inline "
   ]
  },
  {
   "cell_type": "code",
   "execution_count": 2,
   "metadata": {},
   "outputs": [
    {
     "name": "stderr",
     "output_type": "stream",
     "text": [
      "C:\\Users\\kkosf\\anaconda3\\envs\\geospatial\\lib\\site-packages\\IPython\\core\\interactiveshell.py:3146: DtypeWarning: Columns (32,36,53,59,88,89,127,141,144,156,157,158,159) have mixed types.Specify dtype option on import or set low_memory=False.\n",
      "  has_raised = await self.run_ast_nodes(code_ast.body, cell_name,\n"
     ]
    }
   ],
   "source": [
    "smileon_full = pd.read_csv('../data2/SmileOn11.28.2020.csv', skiprows=2, encoding='ISO-8859-1')"
   ]
  },
  {
   "cell_type": "code",
   "execution_count": 3,
   "metadata": {},
   "outputs": [
    {
     "data": {
      "text/html": [
       "<div>\n",
       "<style scoped>\n",
       "    .dataframe tbody tr th:only-of-type {\n",
       "        vertical-align: middle;\n",
       "    }\n",
       "\n",
       "    .dataframe tbody tr th {\n",
       "        vertical-align: top;\n",
       "    }\n",
       "\n",
       "    .dataframe thead th {\n",
       "        text-align: right;\n",
       "    }\n",
       "</style>\n",
       "<table border=\"1\" class=\"dataframe\">\n",
       "  <thead>\n",
       "    <tr style=\"text-align: right;\">\n",
       "      <th></th>\n",
       "      <th>CallReportNum</th>\n",
       "      <th>ReportVersion</th>\n",
       "      <th>date</th>\n",
       "      <th>CallerNum</th>\n",
       "      <th>CountyName</th>\n",
       "      <th>PostalCode</th>\n",
       "      <th>Last_Dentist_Visit</th>\n",
       "      <th>Barriers</th>\n",
       "      <th>Eating_Limitations</th>\n",
       "      <th>Appearance_QOL</th>\n",
       "      <th>Condition</th>\n",
       "      <th>Brush_Frequency</th>\n",
       "      <th>Need_For_Care</th>\n",
       "      <th>Root_Fragments</th>\n",
       "      <th>Lesions</th>\n",
       "      <th>Decay</th>\n",
       "      <th>Tx_Plan_Developed</th>\n",
       "      <th>Tx_Plan_Complete</th>\n",
       "      <th>Function_Restored</th>\n",
       "    </tr>\n",
       "  </thead>\n",
       "  <tbody>\n",
       "    <tr>\n",
       "      <th>0</th>\n",
       "      <td>81381827</td>\n",
       "      <td>SMILE ON 60+ Registration</td>\n",
       "      <td>2020-11-25</td>\n",
       "      <td>3859874</td>\n",
       "      <td>Robertson</td>\n",
       "      <td>37172.0</td>\n",
       "      <td>3 to 5 years</td>\n",
       "      <td>Transportation; Dental cost; No insurance</td>\n",
       "      <td>No</td>\n",
       "      <td>Yes</td>\n",
       "      <td>Poor</td>\n",
       "      <td>NaN</td>\n",
       "      <td>NaN</td>\n",
       "      <td>NaN</td>\n",
       "      <td>NaN</td>\n",
       "      <td>NaN</td>\n",
       "      <td>NaN</td>\n",
       "      <td>NaN</td>\n",
       "      <td>NaN</td>\n",
       "    </tr>\n",
       "    <tr>\n",
       "      <th>1</th>\n",
       "      <td>81379177</td>\n",
       "      <td>SMILE ON 60+ Registration</td>\n",
       "      <td>2020-11-25</td>\n",
       "      <td>3859755</td>\n",
       "      <td>Davidson</td>\n",
       "      <td>37212.0</td>\n",
       "      <td>3 to 5 years</td>\n",
       "      <td>Dental cost; No insurance</td>\n",
       "      <td>No</td>\n",
       "      <td>No</td>\n",
       "      <td>Very Good</td>\n",
       "      <td>NaN</td>\n",
       "      <td>NaN</td>\n",
       "      <td>NaN</td>\n",
       "      <td>NaN</td>\n",
       "      <td>NaN</td>\n",
       "      <td>NaN</td>\n",
       "      <td>NaN</td>\n",
       "      <td>NaN</td>\n",
       "    </tr>\n",
       "    <tr>\n",
       "      <th>2</th>\n",
       "      <td>81377435</td>\n",
       "      <td>SMILE ON 60+ Clinical</td>\n",
       "      <td>2020-11-25</td>\n",
       "      <td>2518680</td>\n",
       "      <td>Hawkins</td>\n",
       "      <td>37857.0</td>\n",
       "      <td>Less than 12 months</td>\n",
       "      <td>Dental cost</td>\n",
       "      <td>No</td>\n",
       "      <td>No</td>\n",
       "      <td>Good</td>\n",
       "      <td>NaN</td>\n",
       "      <td>NaN</td>\n",
       "      <td>NaN</td>\n",
       "      <td>NaN</td>\n",
       "      <td>NaN</td>\n",
       "      <td>Yes</td>\n",
       "      <td>Yes</td>\n",
       "      <td>Yes</td>\n",
       "    </tr>\n",
       "    <tr>\n",
       "      <th>3</th>\n",
       "      <td>81375215</td>\n",
       "      <td>SMILE ON 60+ Clinical</td>\n",
       "      <td>2020-11-25</td>\n",
       "      <td>3231923</td>\n",
       "      <td>Shelby</td>\n",
       "      <td>38104.0</td>\n",
       "      <td>Less than 12 months</td>\n",
       "      <td>Transportation; Dental cost; No insurance</td>\n",
       "      <td>Yes</td>\n",
       "      <td>Yes</td>\n",
       "      <td>Poor</td>\n",
       "      <td>NaN</td>\n",
       "      <td>NaN</td>\n",
       "      <td>NaN</td>\n",
       "      <td>NaN</td>\n",
       "      <td>NaN</td>\n",
       "      <td>NaN</td>\n",
       "      <td>NaN</td>\n",
       "      <td>NaN</td>\n",
       "    </tr>\n",
       "    <tr>\n",
       "      <th>5</th>\n",
       "      <td>81371535</td>\n",
       "      <td>SMILE ON 60+ Clinical</td>\n",
       "      <td>2020-11-25</td>\n",
       "      <td>3605119</td>\n",
       "      <td>Sullivan</td>\n",
       "      <td>37664.0</td>\n",
       "      <td>Less than 12 months</td>\n",
       "      <td>Dental cost</td>\n",
       "      <td>NaN</td>\n",
       "      <td>NaN</td>\n",
       "      <td>NaN</td>\n",
       "      <td>NaN</td>\n",
       "      <td>NaN</td>\n",
       "      <td>NaN</td>\n",
       "      <td>NaN</td>\n",
       "      <td>NaN</td>\n",
       "      <td>Yes</td>\n",
       "      <td>No</td>\n",
       "      <td>NaN</td>\n",
       "    </tr>\n",
       "  </tbody>\n",
       "</table>\n",
       "</div>"
      ],
      "text/plain": [
       "   CallReportNum              ReportVersion        date  CallerNum CountyName  \\\n",
       "0       81381827  SMILE ON 60+ Registration  2020-11-25    3859874  Robertson   \n",
       "1       81379177  SMILE ON 60+ Registration  2020-11-25    3859755   Davidson   \n",
       "2       81377435      SMILE ON 60+ Clinical  2020-11-25    2518680    Hawkins   \n",
       "3       81375215      SMILE ON 60+ Clinical  2020-11-25    3231923     Shelby   \n",
       "5       81371535      SMILE ON 60+ Clinical  2020-11-25    3605119   Sullivan   \n",
       "\n",
       "   PostalCode   Last_Dentist_Visit                                   Barriers  \\\n",
       "0     37172.0         3 to 5 years  Transportation; Dental cost; No insurance   \n",
       "1     37212.0         3 to 5 years                  Dental cost; No insurance   \n",
       "2     37857.0  Less than 12 months                                Dental cost   \n",
       "3     38104.0  Less than 12 months  Transportation; Dental cost; No insurance   \n",
       "5     37664.0  Less than 12 months                                Dental cost   \n",
       "\n",
       "  Eating_Limitations Appearance_QOL  Condition Brush_Frequency Need_For_Care  \\\n",
       "0                 No            Yes       Poor             NaN           NaN   \n",
       "1                 No             No  Very Good             NaN           NaN   \n",
       "2                 No             No       Good             NaN           NaN   \n",
       "3                Yes            Yes       Poor             NaN           NaN   \n",
       "5                NaN            NaN        NaN             NaN           NaN   \n",
       "\n",
       "  Root_Fragments Lesions Decay Tx_Plan_Developed Tx_Plan_Complete  \\\n",
       "0            NaN     NaN   NaN               NaN              NaN   \n",
       "1            NaN     NaN   NaN               NaN              NaN   \n",
       "2            NaN     NaN   NaN               Yes              Yes   \n",
       "3            NaN     NaN   NaN               NaN              NaN   \n",
       "5            NaN     NaN   NaN               Yes               No   \n",
       "\n",
       "  Function_Restored  \n",
       "0               NaN  \n",
       "1               NaN  \n",
       "2               Yes  \n",
       "3               NaN  \n",
       "5               NaN  "
      ]
     },
     "execution_count": 3,
     "metadata": {},
     "output_type": "execute_result"
    }
   ],
   "source": [
    "# create a new dataframe with fewer columns:\n",
    "\n",
    "smileon_full['CallDateAndTimeStart'] = pd.to_datetime(smileon_full['CallDateAndTimeStart'])\n",
    "smileon_full['date'] = smileon_full['CallDateAndTimeStart'].dt.date\n",
    "smileon_full['time'] = smileon_full['CallDateAndTimeStart'].dt.time\n",
    "\n",
    "smileon = smileon_full[['CallReportNum', 'ReportVersion', 'date', 'CallerNum', 'CountyName', 'PostalCode', \n",
    "                        'SMILE ON 60+ Demographic Information - When is the last time you visited your dentist?',\n",
    "                        'SMILE ON 60+ Case Management Information - What barriers have kept you from finding a consistent dental home? (Select all that apply)',\n",
    "                        'SMILE ON 60+ Base-line Oral and Conditions Questions - Are you limited in what you can eat?',\n",
    "                        'SMILE ON 60+ Base-line Oral and Conditions Questions - Have you ever felt that the appearance of your mouth and teeth affected your quality of life?',\n",
    "                        'SMILE ON 60+ Base-line Oral and Conditions Questions - How would you describe the condition of your mouth and teeth?',\n",
    "                        'SMILE ON 60+ Screening - How often do you brush your teeth?', \n",
    "                        'SMILE ON 60+ Screening - Need for Periodontal Care',\n",
    "                        'SMILE ON 60+ Screening - Root Fragments', \n",
    "                        'SMILE ON 60+ Screening - Suspicious Soft Tissue Lesions',\n",
    "                        'SMILE ON 60+ Screening - Untreated Decay', \n",
    "                        'SMILE ON 60+ Treatment Plan - Was a treatment plan developed?',\n",
    "                        'SMILE ON 60+ Treatment Plan - Is the treatment plan completed?', \n",
    "                        'SMILE ON 60+ Treatment Plan - Was the enrollee able to be restored to function (can chew) and \"social six\" esthetics (top front six teeth are present and disease free)'\n",
    "                       ]]\n",
    "\n",
    "#and rename the columns to make things easier:\n",
    "\n",
    "smileon = smileon.rename(columns = {'SMILE ON 60+ Demographic Information - When is the last time you visited your dentist?': 'Last_Dentist_Visit',\n",
    "                                    'SMILE ON 60+ Case Management Information - What barriers have kept you from finding a consistent dental home? (Select all that apply)' : 'Barriers',\n",
    "                                    'SMILE ON 60+ Base-line Oral and Conditions Questions - Are you limited in what you can eat?' : 'Eating_Limitations',\n",
    "                                    'SMILE ON 60+ Base-line Oral and Conditions Questions - Have you ever felt that the appearance of your mouth and teeth affected your quality of life?' : 'Appearance_QOL',\n",
    "                                    'SMILE ON 60+ Base-line Oral and Conditions Questions - How would you describe the condition of your mouth and teeth?' : 'Condition',\n",
    "                                    'SMILE ON 60+ Screening - How often do you brush your teeth?' : 'Brush_Frequency', \n",
    "                                    'SMILE ON 60+ Screening - Need for Periodontal Care' : 'Need_For_Care',\n",
    "                                    'SMILE ON 60+ Screening - Root Fragments' : 'Root_Fragments', \n",
    "                                    'SMILE ON 60+ Screening - Suspicious Soft Tissue Lesions' : 'Lesions',\n",
    "                                    'SMILE ON 60+ Screening - Untreated Decay' : 'Decay', \n",
    "                                    'SMILE ON 60+ Treatment Plan - Was a treatment plan developed?' : 'Tx_Plan_Developed',\n",
    "                                    'SMILE ON 60+ Treatment Plan - Is the treatment plan completed?' : 'Tx_Plan_Complete', \n",
    "                                    'SMILE ON 60+ Treatment Plan - Was the enrollee able to be restored to function (can chew) and \"social six\" esthetics (top front six teeth are present and disease free)' :\n",
    "                                    'Function_Restored'\n",
    "                                   })\n",
    "\n",
    "smileon = smileon.loc[~smileon['CallerNum'].isin(['-1', '-2'])]\n",
    "\n",
    "smileon.head()"
   ]
  },
  {
   "cell_type": "code",
   "execution_count": 4,
   "metadata": {},
   "outputs": [
    {
     "data": {
      "text/plain": [
       "CallReportNum             0\n",
       "ReportVersion             0\n",
       "date                      0\n",
       "CallerNum                 0\n",
       "CountyName              314\n",
       "PostalCode             2569\n",
       "Last_Dentist_Visit     2740\n",
       "Barriers               5350\n",
       "Eating_Limitations     6206\n",
       "Appearance_QOL         6730\n",
       "Condition              6165\n",
       "Brush_Frequency       35388\n",
       "Need_For_Care         35524\n",
       "Root_Fragments        35296\n",
       "Lesions               35590\n",
       "Decay                 35130\n",
       "Tx_Plan_Developed     22930\n",
       "Tx_Plan_Complete      22418\n",
       "Function_Restored     25680\n",
       "dtype: int64"
      ]
     },
     "execution_count": 4,
     "metadata": {},
     "output_type": "execute_result"
    }
   ],
   "source": [
    "smileon.isnull().sum()"
   ]
  },
  {
   "cell_type": "code",
   "execution_count": 5,
   "metadata": {},
   "outputs": [
    {
     "data": {
      "text/plain": [
       "8706"
      ]
     },
     "execution_count": 5,
     "metadata": {},
     "output_type": "execute_result"
    }
   ],
   "source": [
    "smileon.CallerNum.nunique()"
   ]
  },
  {
   "cell_type": "code",
   "execution_count": 6,
   "metadata": {},
   "outputs": [
    {
     "data": {
      "text/plain": [
       "4814"
      ]
     },
     "execution_count": 6,
     "metadata": {},
     "output_type": "execute_result"
    }
   ],
   "source": [
    "Plan_developed_all = smileon[smileon['Tx_Plan_Developed'] == 'Yes'] \n",
    "Plan_developed_all.CallerNum.nunique()"
   ]
  },
  {
   "cell_type": "code",
   "execution_count": 7,
   "metadata": {},
   "outputs": [
    {
     "data": {
      "text/plain": [
       "SMILE ON 60+ Clinical        27357\n",
       "SMILE ON 60+ Registration    12595\n",
       "Name: ReportVersion, dtype: int64"
      ]
     },
     "execution_count": 7,
     "metadata": {},
     "output_type": "execute_result"
    }
   ],
   "source": [
    "smileon.ReportVersion.value_counts()"
   ]
  },
  {
   "cell_type": "code",
   "execution_count": 8,
   "metadata": {},
   "outputs": [
    {
     "name": "stdout",
     "output_type": "stream",
     "text": [
      "(12595, 19)\n",
      "(27357, 19)\n"
     ]
    }
   ],
   "source": [
    "#separate out registration vs clinical:\n",
    "\n",
    "reg_only = smileon[smileon['ReportVersion'] == 'SMILE ON 60+ Registration'] \n",
    "print(reg_only.shape)\n",
    "\n",
    "clinic_only =  smileon[smileon['ReportVersion'] == 'SMILE ON 60+ Clinical'] \n",
    "print(clinic_only.shape)"
   ]
  },
  {
   "cell_type": "code",
   "execution_count": 9,
   "metadata": {},
   "outputs": [
    {
     "name": "stdout",
     "output_type": "stream",
     "text": [
      "<class 'pandas.core.frame.DataFrame'>\n",
      "Int64Index: 27357 entries, 2 to 40029\n",
      "Data columns (total 19 columns):\n",
      " #   Column              Non-Null Count  Dtype  \n",
      "---  ------              --------------  -----  \n",
      " 0   CallReportNum       27357 non-null  int64  \n",
      " 1   ReportVersion       27357 non-null  object \n",
      " 2   date                27357 non-null  object \n",
      " 3   CallerNum           27357 non-null  int64  \n",
      " 4   CountyName          27177 non-null  object \n",
      " 5   PostalCode          25680 non-null  float64\n",
      " 6   Last_Dentist_Visit  25527 non-null  object \n",
      " 7   Barriers            23954 non-null  object \n",
      " 8   Eating_Limitations  23237 non-null  object \n",
      " 9   Appearance_QOL      22898 non-null  object \n",
      " 10  Condition           23244 non-null  object \n",
      " 11  Brush_Frequency     4564 non-null   object \n",
      " 12  Need_For_Care       4428 non-null   object \n",
      " 13  Root_Fragments      4656 non-null   object \n",
      " 14  Lesions             4362 non-null   object \n",
      " 15  Decay               4822 non-null   object \n",
      " 16  Tx_Plan_Developed   17022 non-null  object \n",
      " 17  Tx_Plan_Complete    17534 non-null  object \n",
      " 18  Function_Restored   14272 non-null  object \n",
      "dtypes: float64(1), int64(2), object(16)\n",
      "memory usage: 4.2+ MB\n"
     ]
    }
   ],
   "source": [
    "clinic_only.info() "
   ]
  },
  {
   "cell_type": "code",
   "execution_count": 10,
   "metadata": {},
   "outputs": [
    {
     "data": {
      "text/plain": [
       "5417"
      ]
     },
     "execution_count": 10,
     "metadata": {},
     "output_type": "execute_result"
    }
   ],
   "source": [
    "clinic_only.CallerNum.nunique()"
   ]
  },
  {
   "cell_type": "code",
   "execution_count": 11,
   "metadata": {},
   "outputs": [
    {
     "name": "stdout",
     "output_type": "stream",
     "text": [
      "<class 'pandas.core.frame.DataFrame'>\n",
      "Int64Index: 12595 entries, 0 to 40028\n",
      "Data columns (total 19 columns):\n",
      " #   Column              Non-Null Count  Dtype  \n",
      "---  ------              --------------  -----  \n",
      " 0   CallReportNum       12595 non-null  int64  \n",
      " 1   ReportVersion       12595 non-null  object \n",
      " 2   date                12595 non-null  object \n",
      " 3   CallerNum           12595 non-null  int64  \n",
      " 4   CountyName          12461 non-null  object \n",
      " 5   PostalCode          11703 non-null  float64\n",
      " 6   Last_Dentist_Visit  11685 non-null  object \n",
      " 7   Barriers            10648 non-null  object \n",
      " 8   Eating_Limitations  10509 non-null  object \n",
      " 9   Appearance_QOL      10324 non-null  object \n",
      " 10  Condition           10543 non-null  object \n",
      " 11  Brush_Frequency     0 non-null      object \n",
      " 12  Need_For_Care       0 non-null      object \n",
      " 13  Root_Fragments      0 non-null      object \n",
      " 14  Lesions             0 non-null      object \n",
      " 15  Decay               0 non-null      object \n",
      " 16  Tx_Plan_Developed   0 non-null      object \n",
      " 17  Tx_Plan_Complete    0 non-null      object \n",
      " 18  Function_Restored   0 non-null      object \n",
      "dtypes: float64(1), int64(2), object(16)\n",
      "memory usage: 1.9+ MB\n"
     ]
    }
   ],
   "source": [
    "reg_only.info() "
   ]
  },
  {
   "cell_type": "code",
   "execution_count": 12,
   "metadata": {},
   "outputs": [
    {
     "name": "stdout",
     "output_type": "stream",
     "text": [
      "3356\n"
     ]
    },
    {
     "data": {
      "text/plain": [
       "0.3854812772800368"
      ]
     },
     "execution_count": 12,
     "metadata": {},
     "output_type": "execute_result"
    }
   ],
   "source": [
    "#using the whole dataset, the number of patients with funtion restored: 3356\n",
    "\n",
    "Function_restored = smileon[smileon['Function_Restored'] == 'Yes'] \n",
    "print(Function_restored.CallerNum.nunique())\n",
    "\n",
    "3356/8706 #39% of all patients have function restored"
   ]
  },
  {
   "cell_type": "code",
   "execution_count": 13,
   "metadata": {},
   "outputs": [
    {
     "data": {
      "text/plain": [
       "4814"
      ]
     },
     "execution_count": 13,
     "metadata": {},
     "output_type": "execute_result"
    }
   ],
   "source": [
    "#using the clinic only data, the number of patients with a treatment plan developed: 4814\n",
    "\n",
    "Plan_developed = clinic_only[clinic_only['Tx_Plan_Developed'] == 'Yes'] \n",
    "Plan_developed.CallerNum.nunique()"
   ]
  },
  {
   "cell_type": "code",
   "execution_count": 14,
   "metadata": {},
   "outputs": [
    {
     "name": "stdout",
     "output_type": "stream",
     "text": [
      "3116\n"
     ]
    },
    {
     "data": {
      "text/plain": [
       "0.6472787702534275"
      ]
     },
     "execution_count": 14,
     "metadata": {},
     "output_type": "execute_result"
    }
   ],
   "source": [
    "#Those with a treatment plan developed that were restored to function: 3116\n",
    "\n",
    "Plan_developed_fx = Plan_developed[Plan_developed['Function_Restored'] == 'Yes'] \n",
    "print(Plan_developed_fx.CallerNum.nunique())\n",
    "3116/4814 #65% of those with a treatment plan had function restored"
   ]
  },
  {
   "cell_type": "code",
   "execution_count": 15,
   "metadata": {},
   "outputs": [
    {
     "data": {
      "text/plain": [
       "2220"
      ]
     },
     "execution_count": 15,
     "metadata": {},
     "output_type": "execute_result"
    }
   ],
   "source": [
    "#subset those that reported eating limitations that had a treatment plan developed: 2220\n",
    "\n",
    "Eating_Limitations = Plan_developed[Plan_developed['Eating_Limitations'] == 'Yes'] \n",
    "Eating_Limitations.CallerNum.nunique()"
   ]
  },
  {
   "cell_type": "code",
   "execution_count": 16,
   "metadata": {},
   "outputs": [
    {
     "name": "stdout",
     "output_type": "stream",
     "text": [
      "1298\n"
     ]
    },
    {
     "data": {
      "text/plain": [
       "0.5846846846846847"
      ]
     },
     "execution_count": 16,
     "metadata": {},
     "output_type": "execute_result"
    }
   ],
   "source": [
    "#Those with a treatment plan developed and reported eating limitations that were restored to function: 1298\n",
    "\n",
    "Eating_Limitations_fx = Eating_Limitations[Eating_Limitations['Function_Restored'] == 'Yes'] \n",
    "print(Eating_Limitations_fx.CallerNum.nunique())\n",
    "\n",
    "1298/2220 #58% of people that reported eating limitations have had function restored"
   ]
  },
  {
   "cell_type": "code",
   "execution_count": 17,
   "metadata": {},
   "outputs": [
    {
     "data": {
      "text/plain": [
       "2661"
      ]
     },
     "execution_count": 17,
     "metadata": {},
     "output_type": "execute_result"
    }
   ],
   "source": [
    "#subset those that reported appearance and quality of life issues that had a treatment plan developed: 2661\n",
    "\n",
    "Appearance_QOL = Plan_developed[Plan_developed['Appearance_QOL'] == 'Yes'] \n",
    "Appearance_QOL.CallerNum.nunique()"
   ]
  },
  {
   "cell_type": "code",
   "execution_count": 18,
   "metadata": {},
   "outputs": [
    {
     "name": "stdout",
     "output_type": "stream",
     "text": [
      "1614\n"
     ]
    },
    {
     "data": {
      "text/plain": [
       "0.6065388951521984"
      ]
     },
     "execution_count": 18,
     "metadata": {},
     "output_type": "execute_result"
    }
   ],
   "source": [
    "#Those with a treatment plan developed and reported appearance and quality of life issues that were restored to function: 1614\n",
    "\n",
    "Appearance_QOL_fx = Appearance_QOL[Appearance_QOL['Function_Restored'] == 'Yes'] \n",
    "print(Appearance_QOL_fx.CallerNum.nunique())\n",
    "1614/2661 #61% of people that reported appearance/QOL issues have had function restored"
   ]
  },
  {
   "cell_type": "code",
   "execution_count": 19,
   "metadata": {},
   "outputs": [
    {
     "data": {
      "text/plain": [
       "Poor         5967\n",
       "Fair         4799\n",
       "Good         1908\n",
       "Dont know     598\n",
       "Very Good     243\n",
       "Name: Condition, dtype: int64"
      ]
     },
     "execution_count": 19,
     "metadata": {},
     "output_type": "execute_result"
    }
   ],
   "source": [
    "#Checking options for mouth condition:\n",
    "\n",
    "Plan_developed.Condition.value_counts()"
   ]
  },
  {
   "cell_type": "code",
   "execution_count": 20,
   "metadata": {},
   "outputs": [
    {
     "data": {
      "text/plain": [
       "1741"
      ]
     },
     "execution_count": 20,
     "metadata": {},
     "output_type": "execute_result"
    }
   ],
   "source": [
    "#subset those that reported poor mouth condition that had a treatment plan developed: 1741\n",
    "Poor_condition = Plan_developed[Plan_developed['Condition'] == 'Poor']\n",
    "Poor_condition.CallerNum.nunique()"
   ]
  },
  {
   "cell_type": "code",
   "execution_count": 21,
   "metadata": {},
   "outputs": [
    {
     "name": "stdout",
     "output_type": "stream",
     "text": [
      "979\n"
     ]
    },
    {
     "data": {
      "text/plain": [
       "0.5623205054566341"
      ]
     },
     "execution_count": 21,
     "metadata": {},
     "output_type": "execute_result"
    }
   ],
   "source": [
    "#Those with a treatment plan developed and reported poor mouth condition that were restored to function: 979\n",
    "\n",
    "Poor_condition_fx = Poor_condition[Poor_condition['Function_Restored'] == 'Yes'] \n",
    "print(Poor_condition_fx.CallerNum.nunique())\n",
    "979/1741 #56% of people that reported poor mouth condition have had function restored"
   ]
  },
  {
   "cell_type": "code",
   "execution_count": 22,
   "metadata": {},
   "outputs": [
    {
     "data": {
      "text/plain": [
       "1475"
      ]
     },
     "execution_count": 22,
     "metadata": {},
     "output_type": "execute_result"
    }
   ],
   "source": [
    "#subset those that reported fair mouth condition that had a treatment plan developed: 1475\n",
    "Fair_condition = Plan_developed[Plan_developed['Condition'] == 'Fair']\n",
    "Fair_condition.CallerNum.nunique()"
   ]
  },
  {
   "cell_type": "code",
   "execution_count": 23,
   "metadata": {},
   "outputs": [
    {
     "name": "stdout",
     "output_type": "stream",
     "text": [
      "969\n"
     ]
    },
    {
     "data": {
      "text/plain": [
       "0.6569491525423728"
      ]
     },
     "execution_count": 23,
     "metadata": {},
     "output_type": "execute_result"
    }
   ],
   "source": [
    "#Those with a treatment plan developed and reported poor mouth condition that were restored to function: 969\n",
    "\n",
    "Fair_condition_fx = Fair_condition[Fair_condition['Function_Restored'] == 'Yes'] \n",
    "print(Fair_condition_fx.CallerNum.nunique())\n",
    "969/1475 #66% of people that reported fair mouth condition have had function restored"
   ]
  },
  {
   "cell_type": "code",
   "execution_count": 24,
   "metadata": {},
   "outputs": [
    {
     "data": {
      "text/plain": [
       "Less than 12 months    7290\n",
       "More than 5 years      2888\n",
       "1 to 2 years           2711\n",
       "3 to 5 years           1806\n",
       "Name: Last_Dentist_Visit, dtype: int64"
      ]
     },
     "execution_count": 24,
     "metadata": {},
     "output_type": "execute_result"
    }
   ],
   "source": [
    "Plan_developed.Last_Dentist_Visit.value_counts()"
   ]
  },
  {
   "cell_type": "code",
   "execution_count": 25,
   "metadata": {},
   "outputs": [
    {
     "data": {
      "text/plain": [
       "947"
      ]
     },
     "execution_count": 25,
     "metadata": {},
     "output_type": "execute_result"
    }
   ],
   "source": [
    "#subset those that have not been to the dentist in more than 5 years that had a treatment plan developed: 947\n",
    "five_plus = Plan_developed[Plan_developed['Last_Dentist_Visit'] == 'More than 5 years'] \n",
    "five_plus.CallerNum.nunique()"
   ]
  },
  {
   "cell_type": "code",
   "execution_count": 26,
   "metadata": {},
   "outputs": [
    {
     "name": "stdout",
     "output_type": "stream",
     "text": [
      "516\n"
     ]
    },
    {
     "data": {
      "text/plain": [
       "0.5448785638859557"
      ]
     },
     "execution_count": 26,
     "metadata": {},
     "output_type": "execute_result"
    }
   ],
   "source": [
    "#Those with a treatment plan developed that have not been to the dentist in more than 5 years that were restored to function: 516\n",
    "\n",
    "five_plus_fx = five_plus[five_plus['Function_Restored'] == 'Yes'] \n",
    "print(five_plus_fx.CallerNum.nunique())\n",
    "516/947 #54% of people that haven't been to the dentist in 5 years have function restored"
   ]
  },
  {
   "cell_type": "code",
   "execution_count": 27,
   "metadata": {},
   "outputs": [
    {
     "data": {
      "text/plain": [
       "Yes           2532\n",
       "No             998\n",
       "Edentulous     165\n",
       "Name: Decay, dtype: int64"
      ]
     },
     "execution_count": 27,
     "metadata": {},
     "output_type": "execute_result"
    }
   ],
   "source": [
    "Plan_developed.Decay.value_counts()\n",
    "\n",
    "# 'SMILE ON 60+ Screening - Need for Periodontal Care' : 'Need_For_Care',\n",
    "# 'SMILE ON 60+ Screening - Root Fragments' : 'Root_Fragments', \n",
    "# 'SMILE ON 60+ Screening - Suspicious Soft Tissue Lesions' : 'Lesions',\n",
    "# 'SMILE ON 60+ Screening - Untreated Decay' : 'Decay', "
   ]
  },
  {
   "cell_type": "code",
   "execution_count": 28,
   "metadata": {},
   "outputs": [
    {
     "data": {
      "text/plain": [
       "1471"
      ]
     },
     "execution_count": 28,
     "metadata": {},
     "output_type": "execute_result"
    }
   ],
   "source": [
    "#subset those that have 'Need for periodontal Care' that had a treatment plan developed: 1471\n",
    "\n",
    "Need_For_Care = Plan_developed[Plan_developed['Need_For_Care'] == 'Yes'] \n",
    "\n",
    "Need_For_Care.CallerNum.nunique()"
   ]
  },
  {
   "cell_type": "code",
   "execution_count": 29,
   "metadata": {},
   "outputs": [
    {
     "name": "stdout",
     "output_type": "stream",
     "text": [
      "319\n"
     ]
    },
    {
     "data": {
      "text/plain": [
       "0.2168592794017675"
      ]
     },
     "execution_count": 29,
     "metadata": {},
     "output_type": "execute_result"
    }
   ],
   "source": [
    "#Those with a treatment plan developed that have 'Need for periodontal Care' that were restored to function: 319\n",
    "\n",
    "Need_For_Care_fx = Need_For_Care[Need_For_Care['Function_Restored'] == 'Yes'] \n",
    "print(Need_For_Care_fx.CallerNum.nunique())\n",
    "319/1471 #22% of people that have 'Need for periodontal Care' have function restored"
   ]
  },
  {
   "cell_type": "code",
   "execution_count": 30,
   "metadata": {},
   "outputs": [
    {
     "data": {
      "text/plain": [
       "940"
      ]
     },
     "execution_count": 30,
     "metadata": {},
     "output_type": "execute_result"
    }
   ],
   "source": [
    "#subset those that have 'Root Fragments' that had a treatment plan developed: 940\n",
    "\n",
    "Root_Fragments = Plan_developed[Plan_developed['Root_Fragments'] == 'Yes'] \n",
    "\n",
    "Root_Fragments.CallerNum.nunique()"
   ]
  },
  {
   "cell_type": "code",
   "execution_count": 31,
   "metadata": {},
   "outputs": [
    {
     "name": "stdout",
     "output_type": "stream",
     "text": [
      "147\n"
     ]
    },
    {
     "data": {
      "text/plain": [
       "0.15638297872340426"
      ]
     },
     "execution_count": 31,
     "metadata": {},
     "output_type": "execute_result"
    }
   ],
   "source": [
    "#Those with a treatment plan developed that have 'Root Fragments' that were restored to function: 147\n",
    "\n",
    "Root_Fragments_fx = Root_Fragments[Root_Fragments['Function_Restored'] == 'Yes'] \n",
    "print(Root_Fragments_fx.CallerNum.nunique())\n",
    "147/940 #16% of people that have 'Root Fragments' have function restored"
   ]
  },
  {
   "cell_type": "code",
   "execution_count": 32,
   "metadata": {},
   "outputs": [
    {
     "data": {
      "text/plain": [
       "150"
      ]
     },
     "execution_count": 32,
     "metadata": {},
     "output_type": "execute_result"
    }
   ],
   "source": [
    "#subset those that have 'Suspicious Soft Tissue Lesions' that had a treatment plan developed: 150\n",
    "\n",
    "Lesions = Plan_developed[Plan_developed['Lesions'] == 'Yes'] \n",
    "\n",
    "Lesions.CallerNum.nunique()"
   ]
  },
  {
   "cell_type": "code",
   "execution_count": 33,
   "metadata": {},
   "outputs": [
    {
     "name": "stdout",
     "output_type": "stream",
     "text": [
      "33\n"
     ]
    },
    {
     "data": {
      "text/plain": [
       "0.22"
      ]
     },
     "execution_count": 33,
     "metadata": {},
     "output_type": "execute_result"
    }
   ],
   "source": [
    "#Those with a treatment plan developed that have 'Suspicious Soft Tissue Lesions' that were restored to function: 33\n",
    "\n",
    "Lesions_fx = Lesions[Lesions['Function_Restored'] == 'Yes'] \n",
    "print(Lesions_fx.CallerNum.nunique())\n",
    "33/150 #22% of people that have 'Suspicious Soft Tissue Lesions' have function restored"
   ]
  },
  {
   "cell_type": "code",
   "execution_count": 34,
   "metadata": {},
   "outputs": [
    {
     "data": {
      "text/plain": [
       "2298"
      ]
     },
     "execution_count": 34,
     "metadata": {},
     "output_type": "execute_result"
    }
   ],
   "source": [
    "#subset those that have 'Untreated Decay' that had a treatment plan developed: 2298\n",
    "\n",
    "Decay = Plan_developed[Plan_developed['Decay'] == 'Yes'] \n",
    "\n",
    "Decay.CallerNum.nunique()"
   ]
  },
  {
   "cell_type": "code",
   "execution_count": 35,
   "metadata": {},
   "outputs": [
    {
     "name": "stdout",
     "output_type": "stream",
     "text": [
      "475\n"
     ]
    },
    {
     "data": {
      "text/plain": [
       "0.20670147954743254"
      ]
     },
     "execution_count": 35,
     "metadata": {},
     "output_type": "execute_result"
    }
   ],
   "source": [
    "#Those with a treatment plan developed that have 'Untreated Decay' that were restored to function: 475\n",
    "\n",
    "Decay_fx = Decay[Decay['Function_Restored'] == 'Yes'] \n",
    "print(Decay_fx.CallerNum.nunique())\n",
    "475/2298 #20% of people that have 'Untreated Decay' have function restored"
   ]
  },
  {
   "cell_type": "code",
   "execution_count": 36,
   "metadata": {},
   "outputs": [
    {
     "data": {
      "text/plain": [
       "2894"
      ]
     },
     "execution_count": 36,
     "metadata": {},
     "output_type": "execute_result"
    }
   ],
   "source": [
    "Decay_all = clinic_only[clinic_only['Decay'] == 'Yes'] \n",
    "\n",
    "Decay_all.CallerNum.nunique()"
   ]
  },
  {
   "cell_type": "code",
   "execution_count": 37,
   "metadata": {},
   "outputs": [
    {
     "name": "stdout",
     "output_type": "stream",
     "text": [
      "511\n"
     ]
    }
   ],
   "source": [
    "Decay_fx_all = Decay_all[Decay_all['Function_Restored'] == 'Yes'] \n",
    "print(Decay_fx_all.CallerNum.nunique())"
   ]
  },
  {
   "cell_type": "code",
   "execution_count": 38,
   "metadata": {},
   "outputs": [
    {
     "data": {
      "text/plain": [
       "0.17657221838286108"
      ]
     },
     "execution_count": 38,
     "metadata": {},
     "output_type": "execute_result"
    }
   ],
   "source": [
    "511/2894"
   ]
  },
  {
   "cell_type": "code",
   "execution_count": 39,
   "metadata": {},
   "outputs": [
    {
     "data": {
      "text/plain": [
       "2441776    36\n",
       "2431132    31\n",
       "2416076    29\n",
       "2860770    28\n",
       "2466994    28\n",
       "           ..\n",
       "2536760     1\n",
       "2510267     1\n",
       "3200276     1\n",
       "2450144     1\n",
       "2496365     1\n",
       "Name: CallerNum, Length: 8706, dtype: int64"
      ]
     },
     "execution_count": 39,
     "metadata": {},
     "output_type": "execute_result"
    }
   ],
   "source": [
    "encounters_per_pt = smileon.CallerNum.value_counts()\n",
    "encounters_per_pt"
   ]
  },
  {
   "cell_type": "code",
   "execution_count": 40,
   "metadata": {},
   "outputs": [
    {
     "data": {
      "text/plain": [
       "2441776    35\n",
       "2431132    30\n",
       "2416076    28\n",
       "2860770    27\n",
       "2466994    27\n",
       "           ..\n",
       "3464703     1\n",
       "3165725     1\n",
       "2758182     1\n",
       "2520618     1\n",
       "3041413     1\n",
       "Name: CallerNum, Length: 5417, dtype: int64"
      ]
     },
     "execution_count": 40,
     "metadata": {},
     "output_type": "execute_result"
    }
   ],
   "source": [
    "clinic_encounters_per_pt = clinic_only.CallerNum.value_counts()\n",
    "clinic_encounters_per_pt.to_csv(r'C:\\Users\\kkosf\\Documents\\nss\\projects\\smile-on-spiderman\\clinic_encounters_per_pt.csv', index=False)\n",
    "clinic_encounters_per_pt"
   ]
  },
  {
   "cell_type": "code",
   "execution_count": null,
   "metadata": {},
   "outputs": [],
   "source": []
  }
 ],
 "metadata": {
  "kernelspec": {
   "display_name": "Python 3",
   "language": "python",
   "name": "python3"
  },
  "language_info": {
   "codemirror_mode": {
    "name": "ipython",
    "version": 3
   },
   "file_extension": ".py",
   "mimetype": "text/x-python",
   "name": "python",
   "nbconvert_exporter": "python",
   "pygments_lexer": "ipython3",
   "version": "3.8.5"
  }
 },
 "nbformat": 4,
 "nbformat_minor": 4
}
