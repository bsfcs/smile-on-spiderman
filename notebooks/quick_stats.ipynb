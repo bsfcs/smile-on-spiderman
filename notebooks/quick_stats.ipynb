{
 "cells": [
  {
   "cell_type": "code",
   "execution_count": 1,
   "metadata": {},
   "outputs": [],
   "source": [
    "import pandas as pd\n",
    "import numpy as np\n",
    "import matplotlib.pyplot as plt\n",
    "import seaborn as sns\n",
    "\n",
    "%matplotlib inline "
   ]
  },
  {
   "cell_type": "code",
   "execution_count": 2,
   "metadata": {},
   "outputs": [
    {
     "name": "stderr",
     "output_type": "stream",
     "text": [
      "C:\\Users\\kkosf\\anaconda3\\envs\\geospatial\\lib\\site-packages\\IPython\\core\\interactiveshell.py:3146: DtypeWarning: Columns (32,36,53,59,88,89,127,141,144,156,157,158,159) have mixed types.Specify dtype option on import or set low_memory=False.\n",
      "  has_raised = await self.run_ast_nodes(code_ast.body, cell_name,\n"
     ]
    }
   ],
   "source": [
    "smileon_full = pd.read_csv('../data2/SmileOn11.28.2020.csv', skiprows=2, encoding='ISO-8859-1')"
   ]
  },
  {
   "cell_type": "code",
   "execution_count": 3,
   "metadata": {},
   "outputs": [
    {
     "data": {
      "text/html": [
       "<div>\n",
       "<style scoped>\n",
       "    .dataframe tbody tr th:only-of-type {\n",
       "        vertical-align: middle;\n",
       "    }\n",
       "\n",
       "    .dataframe tbody tr th {\n",
       "        vertical-align: top;\n",
       "    }\n",
       "\n",
       "    .dataframe thead th {\n",
       "        text-align: right;\n",
       "    }\n",
       "</style>\n",
       "<table border=\"1\" class=\"dataframe\">\n",
       "  <thead>\n",
       "    <tr style=\"text-align: right;\">\n",
       "      <th></th>\n",
       "      <th>CallReportNum</th>\n",
       "      <th>ReportVersion</th>\n",
       "      <th>date</th>\n",
       "      <th>CallerNum</th>\n",
       "      <th>CountyName</th>\n",
       "      <th>PostalCode</th>\n",
       "      <th>Last_Dentist_Visit</th>\n",
       "      <th>Barriers</th>\n",
       "      <th>Eating_Limitations</th>\n",
       "      <th>Appearance_QOL</th>\n",
       "      <th>Condition</th>\n",
       "      <th>Brush_Frequency</th>\n",
       "      <th>Need_For_Care</th>\n",
       "      <th>Root_Fragments</th>\n",
       "      <th>Lesions</th>\n",
       "      <th>Decay</th>\n",
       "      <th>Tx_Plan_Complete</th>\n",
       "      <th>Function_Restored</th>\n",
       "    </tr>\n",
       "  </thead>\n",
       "  <tbody>\n",
       "    <tr>\n",
       "      <th>0</th>\n",
       "      <td>81381827</td>\n",
       "      <td>SMILE ON 60+ Registration</td>\n",
       "      <td>2020-11-25</td>\n",
       "      <td>3859874</td>\n",
       "      <td>Robertson</td>\n",
       "      <td>37172.0</td>\n",
       "      <td>3 to 5 years</td>\n",
       "      <td>Transportation; Dental cost; No insurance</td>\n",
       "      <td>No</td>\n",
       "      <td>Yes</td>\n",
       "      <td>Poor</td>\n",
       "      <td>NaN</td>\n",
       "      <td>NaN</td>\n",
       "      <td>NaN</td>\n",
       "      <td>NaN</td>\n",
       "      <td>NaN</td>\n",
       "      <td>NaN</td>\n",
       "      <td>NaN</td>\n",
       "    </tr>\n",
       "    <tr>\n",
       "      <th>1</th>\n",
       "      <td>81379177</td>\n",
       "      <td>SMILE ON 60+ Registration</td>\n",
       "      <td>2020-11-25</td>\n",
       "      <td>3859755</td>\n",
       "      <td>Davidson</td>\n",
       "      <td>37212.0</td>\n",
       "      <td>3 to 5 years</td>\n",
       "      <td>Dental cost; No insurance</td>\n",
       "      <td>No</td>\n",
       "      <td>No</td>\n",
       "      <td>Very Good</td>\n",
       "      <td>NaN</td>\n",
       "      <td>NaN</td>\n",
       "      <td>NaN</td>\n",
       "      <td>NaN</td>\n",
       "      <td>NaN</td>\n",
       "      <td>NaN</td>\n",
       "      <td>NaN</td>\n",
       "    </tr>\n",
       "    <tr>\n",
       "      <th>2</th>\n",
       "      <td>81377435</td>\n",
       "      <td>SMILE ON 60+ Clinical</td>\n",
       "      <td>2020-11-25</td>\n",
       "      <td>2518680</td>\n",
       "      <td>Hawkins</td>\n",
       "      <td>37857.0</td>\n",
       "      <td>Less than 12 months</td>\n",
       "      <td>Dental cost</td>\n",
       "      <td>No</td>\n",
       "      <td>No</td>\n",
       "      <td>Good</td>\n",
       "      <td>NaN</td>\n",
       "      <td>NaN</td>\n",
       "      <td>NaN</td>\n",
       "      <td>NaN</td>\n",
       "      <td>NaN</td>\n",
       "      <td>Yes</td>\n",
       "      <td>Yes</td>\n",
       "    </tr>\n",
       "    <tr>\n",
       "      <th>3</th>\n",
       "      <td>81375215</td>\n",
       "      <td>SMILE ON 60+ Clinical</td>\n",
       "      <td>2020-11-25</td>\n",
       "      <td>3231923</td>\n",
       "      <td>Shelby</td>\n",
       "      <td>38104.0</td>\n",
       "      <td>Less than 12 months</td>\n",
       "      <td>Transportation; Dental cost; No insurance</td>\n",
       "      <td>Yes</td>\n",
       "      <td>Yes</td>\n",
       "      <td>Poor</td>\n",
       "      <td>NaN</td>\n",
       "      <td>NaN</td>\n",
       "      <td>NaN</td>\n",
       "      <td>NaN</td>\n",
       "      <td>NaN</td>\n",
       "      <td>NaN</td>\n",
       "      <td>NaN</td>\n",
       "    </tr>\n",
       "    <tr>\n",
       "      <th>5</th>\n",
       "      <td>81371535</td>\n",
       "      <td>SMILE ON 60+ Clinical</td>\n",
       "      <td>2020-11-25</td>\n",
       "      <td>3605119</td>\n",
       "      <td>Sullivan</td>\n",
       "      <td>37664.0</td>\n",
       "      <td>Less than 12 months</td>\n",
       "      <td>Dental cost</td>\n",
       "      <td>NaN</td>\n",
       "      <td>NaN</td>\n",
       "      <td>NaN</td>\n",
       "      <td>NaN</td>\n",
       "      <td>NaN</td>\n",
       "      <td>NaN</td>\n",
       "      <td>NaN</td>\n",
       "      <td>NaN</td>\n",
       "      <td>No</td>\n",
       "      <td>NaN</td>\n",
       "    </tr>\n",
       "  </tbody>\n",
       "</table>\n",
       "</div>"
      ],
      "text/plain": [
       "   CallReportNum              ReportVersion        date  CallerNum CountyName  \\\n",
       "0       81381827  SMILE ON 60+ Registration  2020-11-25    3859874  Robertson   \n",
       "1       81379177  SMILE ON 60+ Registration  2020-11-25    3859755   Davidson   \n",
       "2       81377435      SMILE ON 60+ Clinical  2020-11-25    2518680    Hawkins   \n",
       "3       81375215      SMILE ON 60+ Clinical  2020-11-25    3231923     Shelby   \n",
       "5       81371535      SMILE ON 60+ Clinical  2020-11-25    3605119   Sullivan   \n",
       "\n",
       "   PostalCode   Last_Dentist_Visit                                   Barriers  \\\n",
       "0     37172.0         3 to 5 years  Transportation; Dental cost; No insurance   \n",
       "1     37212.0         3 to 5 years                  Dental cost; No insurance   \n",
       "2     37857.0  Less than 12 months                                Dental cost   \n",
       "3     38104.0  Less than 12 months  Transportation; Dental cost; No insurance   \n",
       "5     37664.0  Less than 12 months                                Dental cost   \n",
       "\n",
       "  Eating_Limitations Appearance_QOL  Condition Brush_Frequency Need_For_Care  \\\n",
       "0                 No            Yes       Poor             NaN           NaN   \n",
       "1                 No             No  Very Good             NaN           NaN   \n",
       "2                 No             No       Good             NaN           NaN   \n",
       "3                Yes            Yes       Poor             NaN           NaN   \n",
       "5                NaN            NaN        NaN             NaN           NaN   \n",
       "\n",
       "  Root_Fragments Lesions Decay Tx_Plan_Complete Function_Restored  \n",
       "0            NaN     NaN   NaN              NaN               NaN  \n",
       "1            NaN     NaN   NaN              NaN               NaN  \n",
       "2            NaN     NaN   NaN              Yes               Yes  \n",
       "3            NaN     NaN   NaN              NaN               NaN  \n",
       "5            NaN     NaN   NaN               No               NaN  "
      ]
     },
     "execution_count": 3,
     "metadata": {},
     "output_type": "execute_result"
    }
   ],
   "source": [
    "# create a new dataframe with fewer columns:\n",
    "\n",
    "smileon_full['CallDateAndTimeStart'] = pd.to_datetime(smileon_full['CallDateAndTimeStart'])\n",
    "smileon_full['date'] = smileon_full['CallDateAndTimeStart'].dt.date\n",
    "smileon_full['time'] = smileon_full['CallDateAndTimeStart'].dt.time\n",
    "\n",
    "smileon = smileon_full[['CallReportNum', 'ReportVersion', 'date', 'CallerNum', 'CountyName', 'PostalCode', \n",
    "                        'SMILE ON 60+ Demographic Information - When is the last time you visited your dentist?',\n",
    "                        'SMILE ON 60+ Case Management Information - What barriers have kept you from finding a consistent dental home? (Select all that apply)',\n",
    "                        'SMILE ON 60+ Base-line Oral and Conditions Questions - Are you limited in what you can eat?',\n",
    "                        'SMILE ON 60+ Base-line Oral and Conditions Questions - Have you ever felt that the appearance of your mouth and teeth affected your quality of life?',\n",
    "                        'SMILE ON 60+ Base-line Oral and Conditions Questions - How would you describe the condition of your mouth and teeth?',\n",
    "                        'SMILE ON 60+ Screening - How often do you brush your teeth?', \n",
    "                        'SMILE ON 60+ Screening - Need for Periodontal Care',\n",
    "                        'SMILE ON 60+ Screening - Root Fragments', \n",
    "                        'SMILE ON 60+ Screening - Suspicious Soft Tissue Lesions',\n",
    "                        'SMILE ON 60+ Screening - Untreated Decay', \n",
    "                        'SMILE ON 60+ Treatment Plan - Is the treatment plan completed?', \n",
    "                        'SMILE ON 60+ Treatment Plan - Was the enrollee able to be restored to function (can chew) and \"social six\" esthetics (top front six teeth are present and disease free)'\n",
    "                       ]]\n",
    "\n",
    "#and rename the columns to make things easier:\n",
    "\n",
    "smileon = smileon.rename(columns = {'SMILE ON 60+ Demographic Information - When is the last time you visited your dentist?': 'Last_Dentist_Visit',\n",
    "                                    'SMILE ON 60+ Case Management Information - What barriers have kept you from finding a consistent dental home? (Select all that apply)' : 'Barriers',\n",
    "                                    'SMILE ON 60+ Base-line Oral and Conditions Questions - Are you limited in what you can eat?' : 'Eating_Limitations',\n",
    "                                    'SMILE ON 60+ Base-line Oral and Conditions Questions - Have you ever felt that the appearance of your mouth and teeth affected your quality of life?' : 'Appearance_QOL',\n",
    "                                    'SMILE ON 60+ Base-line Oral and Conditions Questions - How would you describe the condition of your mouth and teeth?' : 'Condition',\n",
    "                                    'SMILE ON 60+ Screening - How often do you brush your teeth?' : 'Brush_Frequency', \n",
    "                                    'SMILE ON 60+ Screening - Need for Periodontal Care' : 'Need_For_Care',\n",
    "                                    'SMILE ON 60+ Screening - Root Fragments' : 'Root_Fragments', \n",
    "                                    'SMILE ON 60+ Screening - Suspicious Soft Tissue Lesions' : 'Lesions',\n",
    "                                    'SMILE ON 60+ Screening - Untreated Decay' : 'Decay', \n",
    "                                    'SMILE ON 60+ Treatment Plan - Is the treatment plan completed?' : 'Tx_Plan_Complete', \n",
    "                                    'SMILE ON 60+ Treatment Plan - Was the enrollee able to be restored to function (can chew) and \"social six\" esthetics (top front six teeth are present and disease free)' :\n",
    "                                    'Function_Restored'\n",
    "                                   })\n",
    "\n",
    "smileon = smileon.loc[~smileon['CallerNum'].isin(['-1', '-2'])]\n",
    "\n",
    "smileon.head()"
   ]
  },
  {
   "cell_type": "code",
   "execution_count": 4,
   "metadata": {},
   "outputs": [
    {
     "data": {
      "text/plain": [
       "CallReportNum             0\n",
       "ReportVersion             0\n",
       "date                      0\n",
       "CallerNum                 0\n",
       "CountyName              314\n",
       "PostalCode             2569\n",
       "Last_Dentist_Visit     2740\n",
       "Barriers               5350\n",
       "Eating_Limitations     6206\n",
       "Appearance_QOL         6730\n",
       "Condition              6165\n",
       "Brush_Frequency       35388\n",
       "Need_For_Care         35524\n",
       "Root_Fragments        35296\n",
       "Lesions               35590\n",
       "Decay                 35130\n",
       "Tx_Plan_Complete      22418\n",
       "Function_Restored     25680\n",
       "dtype: int64"
      ]
     },
     "execution_count": 4,
     "metadata": {},
     "output_type": "execute_result"
    }
   ],
   "source": [
    "smileon.isnull().sum()"
   ]
  },
  {
   "cell_type": "code",
   "execution_count": 5,
   "metadata": {},
   "outputs": [
    {
     "data": {
      "text/plain": [
       "8706"
      ]
     },
     "execution_count": 5,
     "metadata": {},
     "output_type": "execute_result"
    }
   ],
   "source": [
    "smileon.CallerNum.nunique()"
   ]
  },
  {
   "cell_type": "code",
   "execution_count": 6,
   "metadata": {},
   "outputs": [
    {
     "data": {
      "text/plain": [
       "SMILE ON 60+ Clinical        27357\n",
       "SMILE ON 60+ Registration    12595\n",
       "Name: ReportVersion, dtype: int64"
      ]
     },
     "execution_count": 6,
     "metadata": {},
     "output_type": "execute_result"
    }
   ],
   "source": [
    "smileon.ReportVersion.value_counts()"
   ]
  },
  {
   "cell_type": "code",
   "execution_count": 7,
   "metadata": {},
   "outputs": [
    {
     "name": "stdout",
     "output_type": "stream",
     "text": [
      "(12595, 18)\n",
      "(27357, 18)\n"
     ]
    },
    {
     "data": {
      "text/html": [
       "<div>\n",
       "<style scoped>\n",
       "    .dataframe tbody tr th:only-of-type {\n",
       "        vertical-align: middle;\n",
       "    }\n",
       "\n",
       "    .dataframe tbody tr th {\n",
       "        vertical-align: top;\n",
       "    }\n",
       "\n",
       "    .dataframe thead th {\n",
       "        text-align: right;\n",
       "    }\n",
       "</style>\n",
       "<table border=\"1\" class=\"dataframe\">\n",
       "  <thead>\n",
       "    <tr style=\"text-align: right;\">\n",
       "      <th></th>\n",
       "      <th>CallReportNum</th>\n",
       "      <th>ReportVersion</th>\n",
       "      <th>date</th>\n",
       "      <th>CallerNum</th>\n",
       "      <th>CountyName</th>\n",
       "      <th>PostalCode</th>\n",
       "      <th>Last_Dentist_Visit</th>\n",
       "      <th>Barriers</th>\n",
       "      <th>Eating_Limitations</th>\n",
       "      <th>Appearance_QOL</th>\n",
       "      <th>Condition</th>\n",
       "      <th>Brush_Frequency</th>\n",
       "      <th>Need_For_Care</th>\n",
       "      <th>Root_Fragments</th>\n",
       "      <th>Lesions</th>\n",
       "      <th>Decay</th>\n",
       "      <th>Tx_Plan_Complete</th>\n",
       "      <th>Function_Restored</th>\n",
       "    </tr>\n",
       "  </thead>\n",
       "  <tbody>\n",
       "    <tr>\n",
       "      <th>2</th>\n",
       "      <td>81377435</td>\n",
       "      <td>SMILE ON 60+ Clinical</td>\n",
       "      <td>2020-11-25</td>\n",
       "      <td>2518680</td>\n",
       "      <td>Hawkins</td>\n",
       "      <td>37857.0</td>\n",
       "      <td>Less than 12 months</td>\n",
       "      <td>Dental cost</td>\n",
       "      <td>No</td>\n",
       "      <td>No</td>\n",
       "      <td>Good</td>\n",
       "      <td>NaN</td>\n",
       "      <td>NaN</td>\n",
       "      <td>NaN</td>\n",
       "      <td>NaN</td>\n",
       "      <td>NaN</td>\n",
       "      <td>Yes</td>\n",
       "      <td>Yes</td>\n",
       "    </tr>\n",
       "    <tr>\n",
       "      <th>3</th>\n",
       "      <td>81375215</td>\n",
       "      <td>SMILE ON 60+ Clinical</td>\n",
       "      <td>2020-11-25</td>\n",
       "      <td>3231923</td>\n",
       "      <td>Shelby</td>\n",
       "      <td>38104.0</td>\n",
       "      <td>Less than 12 months</td>\n",
       "      <td>Transportation; Dental cost; No insurance</td>\n",
       "      <td>Yes</td>\n",
       "      <td>Yes</td>\n",
       "      <td>Poor</td>\n",
       "      <td>NaN</td>\n",
       "      <td>NaN</td>\n",
       "      <td>NaN</td>\n",
       "      <td>NaN</td>\n",
       "      <td>NaN</td>\n",
       "      <td>NaN</td>\n",
       "      <td>NaN</td>\n",
       "    </tr>\n",
       "    <tr>\n",
       "      <th>5</th>\n",
       "      <td>81371535</td>\n",
       "      <td>SMILE ON 60+ Clinical</td>\n",
       "      <td>2020-11-25</td>\n",
       "      <td>3605119</td>\n",
       "      <td>Sullivan</td>\n",
       "      <td>37664.0</td>\n",
       "      <td>Less than 12 months</td>\n",
       "      <td>Dental cost</td>\n",
       "      <td>NaN</td>\n",
       "      <td>NaN</td>\n",
       "      <td>NaN</td>\n",
       "      <td>NaN</td>\n",
       "      <td>NaN</td>\n",
       "      <td>NaN</td>\n",
       "      <td>NaN</td>\n",
       "      <td>NaN</td>\n",
       "      <td>No</td>\n",
       "      <td>NaN</td>\n",
       "    </tr>\n",
       "    <tr>\n",
       "      <th>6</th>\n",
       "      <td>81371527</td>\n",
       "      <td>SMILE ON 60+ Clinical</td>\n",
       "      <td>2020-11-25</td>\n",
       "      <td>3859184</td>\n",
       "      <td>Wilson</td>\n",
       "      <td>37087.0</td>\n",
       "      <td>1 to 2 years</td>\n",
       "      <td>Dental cost</td>\n",
       "      <td>No</td>\n",
       "      <td>Yes</td>\n",
       "      <td>Fair</td>\n",
       "      <td>NaN</td>\n",
       "      <td>NaN</td>\n",
       "      <td>NaN</td>\n",
       "      <td>NaN</td>\n",
       "      <td>NaN</td>\n",
       "      <td>NaN</td>\n",
       "      <td>NaN</td>\n",
       "    </tr>\n",
       "    <tr>\n",
       "      <th>7</th>\n",
       "      <td>81371481</td>\n",
       "      <td>SMILE ON 60+ Clinical</td>\n",
       "      <td>2020-11-25</td>\n",
       "      <td>3746643</td>\n",
       "      <td>Hawkins</td>\n",
       "      <td>37642.0</td>\n",
       "      <td>More than 5 years</td>\n",
       "      <td>Dental cost</td>\n",
       "      <td>NaN</td>\n",
       "      <td>NaN</td>\n",
       "      <td>NaN</td>\n",
       "      <td>NaN</td>\n",
       "      <td>NaN</td>\n",
       "      <td>NaN</td>\n",
       "      <td>NaN</td>\n",
       "      <td>NaN</td>\n",
       "      <td>No</td>\n",
       "      <td>NaN</td>\n",
       "    </tr>\n",
       "  </tbody>\n",
       "</table>\n",
       "</div>"
      ],
      "text/plain": [
       "   CallReportNum          ReportVersion        date  CallerNum CountyName  \\\n",
       "2       81377435  SMILE ON 60+ Clinical  2020-11-25    2518680    Hawkins   \n",
       "3       81375215  SMILE ON 60+ Clinical  2020-11-25    3231923     Shelby   \n",
       "5       81371535  SMILE ON 60+ Clinical  2020-11-25    3605119   Sullivan   \n",
       "6       81371527  SMILE ON 60+ Clinical  2020-11-25    3859184     Wilson   \n",
       "7       81371481  SMILE ON 60+ Clinical  2020-11-25    3746643    Hawkins   \n",
       "\n",
       "   PostalCode   Last_Dentist_Visit                                   Barriers  \\\n",
       "2     37857.0  Less than 12 months                                Dental cost   \n",
       "3     38104.0  Less than 12 months  Transportation; Dental cost; No insurance   \n",
       "5     37664.0  Less than 12 months                                Dental cost   \n",
       "6     37087.0         1 to 2 years                                Dental cost   \n",
       "7     37642.0    More than 5 years                                Dental cost   \n",
       "\n",
       "  Eating_Limitations Appearance_QOL Condition Brush_Frequency Need_For_Care  \\\n",
       "2                 No             No      Good             NaN           NaN   \n",
       "3                Yes            Yes      Poor             NaN           NaN   \n",
       "5                NaN            NaN       NaN             NaN           NaN   \n",
       "6                 No            Yes      Fair             NaN           NaN   \n",
       "7                NaN            NaN       NaN             NaN           NaN   \n",
       "\n",
       "  Root_Fragments Lesions Decay Tx_Plan_Complete Function_Restored  \n",
       "2            NaN     NaN   NaN              Yes               Yes  \n",
       "3            NaN     NaN   NaN              NaN               NaN  \n",
       "5            NaN     NaN   NaN               No               NaN  \n",
       "6            NaN     NaN   NaN              NaN               NaN  \n",
       "7            NaN     NaN   NaN               No               NaN  "
      ]
     },
     "execution_count": 7,
     "metadata": {},
     "output_type": "execute_result"
    }
   ],
   "source": [
    "#separate out registration vs clinical:\n",
    "\n",
    "reg_only = smileon[smileon['ReportVersion'] == 'SMILE ON 60+ Registration'] \n",
    "print(reg_only.shape)\n",
    "\n",
    "clinic_only =  smileon[smileon['ReportVersion'] == 'SMILE ON 60+ Clinical'] \n",
    "print(clinic_only.shape)\n",
    "clinic_only.head()"
   ]
  },
  {
   "cell_type": "code",
   "execution_count": 8,
   "metadata": {},
   "outputs": [
    {
     "name": "stdout",
     "output_type": "stream",
     "text": [
      "<class 'pandas.core.frame.DataFrame'>\n",
      "Int64Index: 27357 entries, 2 to 40029\n",
      "Data columns (total 18 columns):\n",
      " #   Column              Non-Null Count  Dtype  \n",
      "---  ------              --------------  -----  \n",
      " 0   CallReportNum       27357 non-null  int64  \n",
      " 1   ReportVersion       27357 non-null  object \n",
      " 2   date                27357 non-null  object \n",
      " 3   CallerNum           27357 non-null  int64  \n",
      " 4   CountyName          27177 non-null  object \n",
      " 5   PostalCode          25680 non-null  float64\n",
      " 6   Last_Dentist_Visit  25527 non-null  object \n",
      " 7   Barriers            23954 non-null  object \n",
      " 8   Eating_Limitations  23237 non-null  object \n",
      " 9   Appearance_QOL      22898 non-null  object \n",
      " 10  Condition           23244 non-null  object \n",
      " 11  Brush_Frequency     4564 non-null   object \n",
      " 12  Need_For_Care       4428 non-null   object \n",
      " 13  Root_Fragments      4656 non-null   object \n",
      " 14  Lesions             4362 non-null   object \n",
      " 15  Decay               4822 non-null   object \n",
      " 16  Tx_Plan_Complete    17534 non-null  object \n",
      " 17  Function_Restored   14272 non-null  object \n",
      "dtypes: float64(1), int64(2), object(15)\n",
      "memory usage: 4.0+ MB\n"
     ]
    }
   ],
   "source": [
    "clinic_only.info() "
   ]
  },
  {
   "cell_type": "code",
   "execution_count": 9,
   "metadata": {},
   "outputs": [
    {
     "name": "stdout",
     "output_type": "stream",
     "text": [
      "<class 'pandas.core.frame.DataFrame'>\n",
      "Int64Index: 12595 entries, 0 to 40028\n",
      "Data columns (total 18 columns):\n",
      " #   Column              Non-Null Count  Dtype  \n",
      "---  ------              --------------  -----  \n",
      " 0   CallReportNum       12595 non-null  int64  \n",
      " 1   ReportVersion       12595 non-null  object \n",
      " 2   date                12595 non-null  object \n",
      " 3   CallerNum           12595 non-null  int64  \n",
      " 4   CountyName          12461 non-null  object \n",
      " 5   PostalCode          11703 non-null  float64\n",
      " 6   Last_Dentist_Visit  11685 non-null  object \n",
      " 7   Barriers            10648 non-null  object \n",
      " 8   Eating_Limitations  10509 non-null  object \n",
      " 9   Appearance_QOL      10324 non-null  object \n",
      " 10  Condition           10543 non-null  object \n",
      " 11  Brush_Frequency     0 non-null      object \n",
      " 12  Need_For_Care       0 non-null      object \n",
      " 13  Root_Fragments      0 non-null      object \n",
      " 14  Lesions             0 non-null      object \n",
      " 15  Decay               0 non-null      object \n",
      " 16  Tx_Plan_Complete    0 non-null      object \n",
      " 17  Function_Restored   0 non-null      object \n",
      "dtypes: float64(1), int64(2), object(15)\n",
      "memory usage: 1.8+ MB\n"
     ]
    }
   ],
   "source": [
    "reg_only.info() "
   ]
  },
  {
   "cell_type": "code",
   "execution_count": 10,
   "metadata": {},
   "outputs": [
    {
     "data": {
      "text/plain": [
       "4151"
      ]
     },
     "execution_count": 10,
     "metadata": {},
     "output_type": "execute_result"
    }
   ],
   "source": [
    "Eating_Limitations = smileon[smileon['Eating_Limitations'] == 'Yes'] \n",
    "Eating_Limitations.CallerNum.nunique()"
   ]
  },
  {
   "cell_type": "code",
   "execution_count": 69,
   "metadata": {},
   "outputs": [
    {
     "data": {
      "text/plain": [
       "1450"
      ]
     },
     "execution_count": 69,
     "metadata": {},
     "output_type": "execute_result"
    }
   ],
   "source": [
    "Eating_Limitations_fx = Eating_Limitations[Eating_Limitations['Function_Restored'] == 'Yes'] \n",
    "Eating_Limitations_fx.CallerNum.nunique()"
   ]
  },
  {
   "cell_type": "code",
   "execution_count": 70,
   "metadata": {},
   "outputs": [
    {
     "data": {
      "text/plain": [
       "0.3493134184533847"
      ]
     },
     "execution_count": 70,
     "metadata": {},
     "output_type": "execute_result"
    }
   ],
   "source": [
    "1450/4151 #35% of people that reported eating limitations have had function restored"
   ]
  },
  {
   "cell_type": "code",
   "execution_count": 67,
   "metadata": {},
   "outputs": [
    {
     "data": {
      "text/plain": [
       "1297"
      ]
     },
     "execution_count": 67,
     "metadata": {},
     "output_type": "execute_result"
    }
   ],
   "source": [
    "Eating_Limitations_tx = Eating_Limitations[Eating_Limitations['Tx_Plan_Complete'] == 'Yes'] \n",
    "Eating_Limitations_tx.CallerNum.nunique()"
   ]
  },
  {
   "cell_type": "code",
   "execution_count": 68,
   "metadata": {},
   "outputs": [
    {
     "data": {
      "text/plain": [
       "0.3124548301614069"
      ]
     },
     "execution_count": 68,
     "metadata": {},
     "output_type": "execute_result"
    }
   ],
   "source": [
    "1297/4151 #31% of people that reported eating limitations have completed a treatment plan"
   ]
  },
  {
   "cell_type": "code",
   "execution_count": 15,
   "metadata": {},
   "outputs": [
    {
     "data": {
      "text/plain": [
       "4761"
      ]
     },
     "execution_count": 15,
     "metadata": {},
     "output_type": "execute_result"
    }
   ],
   "source": [
    "Appearance_QOL = smileon[smileon['Appearance_QOL'] == 'Yes'] \n",
    "Appearance_QOL.CallerNum.nunique()"
   ]
  },
  {
   "cell_type": "code",
   "execution_count": 65,
   "metadata": {},
   "outputs": [
    {
     "data": {
      "text/plain": [
       "1780"
      ]
     },
     "execution_count": 65,
     "metadata": {},
     "output_type": "execute_result"
    }
   ],
   "source": [
    "Appearance_QOL_fx = Appearance_QOL[Appearance_QOL['Function_Restored'] == 'Yes'] \n",
    "Appearance_QOL_fx.CallerNum.nunique()"
   ]
  },
  {
   "cell_type": "code",
   "execution_count": 66,
   "metadata": {},
   "outputs": [
    {
     "data": {
      "text/plain": [
       "0.3738710354967444"
      ]
     },
     "execution_count": 66,
     "metadata": {},
     "output_type": "execute_result"
    }
   ],
   "source": [
    "1780/4761 #37% of people that reported appearance/QOL issues have had function restored"
   ]
  },
  {
   "cell_type": "code",
   "execution_count": 63,
   "metadata": {},
   "outputs": [
    {
     "data": {
      "text/plain": [
       "1565"
      ]
     },
     "execution_count": 63,
     "metadata": {},
     "output_type": "execute_result"
    }
   ],
   "source": [
    "Appearance_QOL_tx = Appearance_QOL[Appearance_QOL['Tx_Plan_Complete'] == 'Yes'] \n",
    "Appearance_QOL_tx.CallerNum.nunique()"
   ]
  },
  {
   "cell_type": "code",
   "execution_count": 64,
   "metadata": {},
   "outputs": [
    {
     "data": {
      "text/plain": [
       "0.32871245536651966"
      ]
     },
     "execution_count": 64,
     "metadata": {},
     "output_type": "execute_result"
    }
   ],
   "source": [
    "1565/4761 #32% of people that reported appearance/QOL issues have completed a treatment plan"
   ]
  },
  {
   "cell_type": "code",
   "execution_count": 20,
   "metadata": {},
   "outputs": [
    {
     "data": {
      "text/plain": [
       "Poor         15687\n",
       "Fair         11352\n",
       "Good          4716\n",
       "Dont know     1354\n",
       "Very Good      678\n",
       "Name: Condition, dtype: int64"
      ]
     },
     "execution_count": 20,
     "metadata": {},
     "output_type": "execute_result"
    }
   ],
   "source": [
    "smileon.Condition.value_counts()"
   ]
  },
  {
   "cell_type": "code",
   "execution_count": 21,
   "metadata": {},
   "outputs": [
    {
     "data": {
      "text/plain": [
       "3264"
      ]
     },
     "execution_count": 21,
     "metadata": {},
     "output_type": "execute_result"
    }
   ],
   "source": [
    "Poor_condition = smileon[smileon['Condition'] == 'Poor']\n",
    "Poor_condition.CallerNum.nunique()"
   ]
  },
  {
   "cell_type": "code",
   "execution_count": 48,
   "metadata": {},
   "outputs": [
    {
     "data": {
      "text/plain": [
       "1081"
      ]
     },
     "execution_count": 48,
     "metadata": {},
     "output_type": "execute_result"
    }
   ],
   "source": [
    "Poor_condition_fx = Poor_condition[Poor_condition['Function_Restored'] == 'Yes'] \n",
    "Poor_condition_fx.CallerNum.nunique()"
   ]
  },
  {
   "cell_type": "code",
   "execution_count": 51,
   "metadata": {},
   "outputs": [
    {
     "data": {
      "text/plain": [
       "0.33118872549019607"
      ]
     },
     "execution_count": 51,
     "metadata": {},
     "output_type": "execute_result"
    }
   ],
   "source": [
    "1081/3264 #33% of people that reported poor mouth condition have had function restored"
   ]
  },
  {
   "cell_type": "code",
   "execution_count": 49,
   "metadata": {},
   "outputs": [
    {
     "data": {
      "text/plain": [
       "948"
      ]
     },
     "execution_count": 49,
     "metadata": {},
     "output_type": "execute_result"
    }
   ],
   "source": [
    "Poor_condition_fx = Poor_condition[Poor_condition['Tx_Plan_Complete'] == 'Yes'] \n",
    "Poor_condition_fx.CallerNum.nunique()"
   ]
  },
  {
   "cell_type": "code",
   "execution_count": 50,
   "metadata": {},
   "outputs": [
    {
     "data": {
      "text/plain": [
       "0.29044117647058826"
      ]
     },
     "execution_count": 50,
     "metadata": {},
     "output_type": "execute_result"
    }
   ],
   "source": [
    "948/3264 #29% of people that reported poor mouth condition have completed a treatment plan"
   ]
  },
  {
   "cell_type": "code",
   "execution_count": 26,
   "metadata": {},
   "outputs": [
    {
     "data": {
      "text/plain": [
       "2456"
      ]
     },
     "execution_count": 26,
     "metadata": {},
     "output_type": "execute_result"
    }
   ],
   "source": [
    "Fair_condition = smileon[smileon['Condition'] == 'Fair']\n",
    "Fair_condition.CallerNum.nunique()"
   ]
  },
  {
   "cell_type": "code",
   "execution_count": 27,
   "metadata": {},
   "outputs": [
    {
     "data": {
      "text/plain": [
       "1028"
      ]
     },
     "execution_count": 27,
     "metadata": {},
     "output_type": "execute_result"
    }
   ],
   "source": [
    "Fair_condition_fx = Fair_condition[Fair_condition['Function_Restored'] == 'Yes'] \n",
    "Fair_condition_fx.CallerNum.nunique()"
   ]
  },
  {
   "cell_type": "code",
   "execution_count": 42,
   "metadata": {},
   "outputs": [
    {
     "data": {
      "text/plain": [
       "0.4185667752442997"
      ]
     },
     "execution_count": 42,
     "metadata": {},
     "output_type": "execute_result"
    }
   ],
   "source": [
    "1028/2456 #42% of people that reported fair mouth condition have had function restored"
   ]
  },
  {
   "cell_type": "code",
   "execution_count": 44,
   "metadata": {},
   "outputs": [
    {
     "data": {
      "text/plain": [
       "890"
      ]
     },
     "execution_count": 44,
     "metadata": {},
     "output_type": "execute_result"
    }
   ],
   "source": [
    "Fair_condition_tx = Fair_condition[Fair_condition['Tx_Plan_Complete'] == 'Yes'] \n",
    "Fair_condition_tx.CallerNum.nunique()"
   ]
  },
  {
   "cell_type": "code",
   "execution_count": 45,
   "metadata": {},
   "outputs": [
    {
     "data": {
      "text/plain": [
       "0.36237785016286644"
      ]
     },
     "execution_count": 45,
     "metadata": {},
     "output_type": "execute_result"
    }
   ],
   "source": [
    "890/2456 #36% of people that reported poor mouth condition have completed a treatment plan"
   ]
  },
  {
   "cell_type": "code",
   "execution_count": 72,
   "metadata": {},
   "outputs": [
    {
     "data": {
      "text/plain": [
       "Less than 12 months    16750\n",
       "More than 5 years       8523\n",
       "1 to 2 years            7076\n",
       "3 to 5 years            4863\n",
       "Name: Last_Dentist_Visit, dtype: int64"
      ]
     },
     "execution_count": 72,
     "metadata": {},
     "output_type": "execute_result"
    }
   ],
   "source": [
    "smileon.Last_Dentist_Visit.value_counts()"
   ]
  },
  {
   "cell_type": "code",
   "execution_count": 32,
   "metadata": {},
   "outputs": [
    {
     "data": {
      "text/plain": [
       "2075"
      ]
     },
     "execution_count": 32,
     "metadata": {},
     "output_type": "execute_result"
    }
   ],
   "source": [
    "five_plus = smileon[smileon['Last_Dentist_Visit'] == 'More than 5 years'] \n",
    "five_plus.CallerNum.nunique()"
   ]
  },
  {
   "cell_type": "code",
   "execution_count": 34,
   "metadata": {},
   "outputs": [
    {
     "data": {
      "text/plain": [
       "573"
      ]
     },
     "execution_count": 34,
     "metadata": {},
     "output_type": "execute_result"
    }
   ],
   "source": [
    "five_plus_fx = five_plus[five_plus['Function_Restored'] == 'Yes'] \n",
    "five_plus_fx.CallerNum.nunique()"
   ]
  },
  {
   "cell_type": "code",
   "execution_count": 38,
   "metadata": {},
   "outputs": [
    {
     "data": {
      "text/plain": [
       "0.276144578313253"
      ]
     },
     "execution_count": 38,
     "metadata": {},
     "output_type": "execute_result"
    }
   ],
   "source": [
    "573/2075 #28% of people that haven't been to the dentist in 5 years have function restored"
   ]
  },
  {
   "cell_type": "code",
   "execution_count": 40,
   "metadata": {},
   "outputs": [
    {
     "data": {
      "text/plain": [
       "532"
      ]
     },
     "execution_count": 40,
     "metadata": {},
     "output_type": "execute_result"
    }
   ],
   "source": [
    "five_plus_tx = five_plus[five_plus['Tx_Plan_Complete'] == 'Yes'] \n",
    "five_plus_tx.CallerNum.nunique()"
   ]
  },
  {
   "cell_type": "code",
   "execution_count": 41,
   "metadata": {},
   "outputs": [
    {
     "data": {
      "text/plain": [
       "0.2563855421686747"
      ]
     },
     "execution_count": 41,
     "metadata": {},
     "output_type": "execute_result"
    }
   ],
   "source": [
    "532/2075 #26% of people that haven't been to the dentist in 5 years have completed a treatment plan"
   ]
  },
  {
   "cell_type": "code",
   "execution_count": null,
   "metadata": {},
   "outputs": [],
   "source": []
  }
 ],
 "metadata": {
  "kernelspec": {
   "display_name": "Python 3",
   "language": "python",
   "name": "python3"
  },
  "language_info": {
   "codemirror_mode": {
    "name": "ipython",
    "version": 3
   },
   "file_extension": ".py",
   "mimetype": "text/x-python",
   "name": "python",
   "nbconvert_exporter": "python",
   "pygments_lexer": "ipython3",
   "version": "3.8.5"
  }
 },
 "nbformat": 4,
 "nbformat_minor": 4
}
